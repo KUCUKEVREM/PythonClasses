{
 "cells": [
  {
   "cell_type": "code",
   "execution_count": 1,
   "id": "a6ab2746",
   "metadata": {},
   "outputs": [],
   "source": [
    "benim_sozluk = dict()"
   ]
  },
  {
   "cell_type": "code",
   "execution_count": 2,
   "id": "da4c4dbd",
   "metadata": {},
   "outputs": [],
   "source": [
    "benim_sozluk[\"anahtar\"] = \"deger\""
   ]
  },
  {
   "cell_type": "code",
   "execution_count": 3,
   "id": "7a93e706",
   "metadata": {},
   "outputs": [
    {
     "data": {
      "text/plain": [
       "{'anahtar': 'deger'}"
      ]
     },
     "execution_count": 3,
     "metadata": {},
     "output_type": "execute_result"
    }
   ],
   "source": [
    "benim_sozluk"
   ]
  },
  {
   "cell_type": "code",
   "execution_count": 4,
   "id": "4e04980d",
   "metadata": {},
   "outputs": [
    {
     "data": {
      "text/plain": [
       "dict"
      ]
     },
     "execution_count": 4,
     "metadata": {},
     "output_type": "execute_result"
    }
   ],
   "source": [
    "type(benim_sozluk)"
   ]
  },
  {
   "cell_type": "code",
   "execution_count": 5,
   "id": "e3a74f21",
   "metadata": {},
   "outputs": [
    {
     "name": "stdout",
     "output_type": "stream",
     "text": [
      "Help on class dict in module builtins:\n",
      "\n",
      "class dict(object)\n",
      " |  dict() -> new empty dictionary\n",
      " |  dict(mapping) -> new dictionary initialized from a mapping object's\n",
      " |      (key, value) pairs\n",
      " |  dict(iterable) -> new dictionary initialized as if via:\n",
      " |      d = {}\n",
      " |      for k, v in iterable:\n",
      " |          d[k] = v\n",
      " |  dict(**kwargs) -> new dictionary initialized with the name=value pairs\n",
      " |      in the keyword argument list.  For example:  dict(one=1, two=2)\n",
      " |  \n",
      " |  Built-in subclasses:\n",
      " |      StgDict\n",
      " |  \n",
      " |  Methods defined here:\n",
      " |  \n",
      " |  __contains__(self, key, /)\n",
      " |      True if the dictionary has the specified key, else False.\n",
      " |  \n",
      " |  __delitem__(self, key, /)\n",
      " |      Delete self[key].\n",
      " |  \n",
      " |  __eq__(self, value, /)\n",
      " |      Return self==value.\n",
      " |  \n",
      " |  __ge__(self, value, /)\n",
      " |      Return self>=value.\n",
      " |  \n",
      " |  __getattribute__(self, name, /)\n",
      " |      Return getattr(self, name).\n",
      " |  \n",
      " |  __getitem__(...)\n",
      " |      x.__getitem__(y) <==> x[y]\n",
      " |  \n",
      " |  __gt__(self, value, /)\n",
      " |      Return self>value.\n",
      " |  \n",
      " |  __init__(self, /, *args, **kwargs)\n",
      " |      Initialize self.  See help(type(self)) for accurate signature.\n",
      " |  \n",
      " |  __ior__(self, value, /)\n",
      " |      Return self|=value.\n",
      " |  \n",
      " |  __iter__(self, /)\n",
      " |      Implement iter(self).\n",
      " |  \n",
      " |  __le__(self, value, /)\n",
      " |      Return self<=value.\n",
      " |  \n",
      " |  __len__(self, /)\n",
      " |      Return len(self).\n",
      " |  \n",
      " |  __lt__(self, value, /)\n",
      " |      Return self<value.\n",
      " |  \n",
      " |  __ne__(self, value, /)\n",
      " |      Return self!=value.\n",
      " |  \n",
      " |  __or__(self, value, /)\n",
      " |      Return self|value.\n",
      " |  \n",
      " |  __repr__(self, /)\n",
      " |      Return repr(self).\n",
      " |  \n",
      " |  __reversed__(self, /)\n",
      " |      Return a reverse iterator over the dict keys.\n",
      " |  \n",
      " |  __ror__(self, value, /)\n",
      " |      Return value|self.\n",
      " |  \n",
      " |  __setitem__(self, key, value, /)\n",
      " |      Set self[key] to value.\n",
      " |  \n",
      " |  __sizeof__(...)\n",
      " |      D.__sizeof__() -> size of D in memory, in bytes\n",
      " |  \n",
      " |  clear(...)\n",
      " |      D.clear() -> None.  Remove all items from D.\n",
      " |  \n",
      " |  copy(...)\n",
      " |      D.copy() -> a shallow copy of D\n",
      " |  \n",
      " |  get(self, key, default=None, /)\n",
      " |      Return the value for key if key is in the dictionary, else default.\n",
      " |  \n",
      " |  items(...)\n",
      " |      D.items() -> a set-like object providing a view on D's items\n",
      " |  \n",
      " |  keys(...)\n",
      " |      D.keys() -> a set-like object providing a view on D's keys\n",
      " |  \n",
      " |  pop(...)\n",
      " |      D.pop(k[,d]) -> v, remove specified key and return the corresponding value.\n",
      " |      \n",
      " |      If key is not found, default is returned if given, otherwise KeyError is raised\n",
      " |  \n",
      " |  popitem(self, /)\n",
      " |      Remove and return a (key, value) pair as a 2-tuple.\n",
      " |      \n",
      " |      Pairs are returned in LIFO (last-in, first-out) order.\n",
      " |      Raises KeyError if the dict is empty.\n",
      " |  \n",
      " |  setdefault(self, key, default=None, /)\n",
      " |      Insert key with a value of default if key is not in the dictionary.\n",
      " |      \n",
      " |      Return the value for key if key is in the dictionary, else default.\n",
      " |  \n",
      " |  update(...)\n",
      " |      D.update([E, ]**F) -> None.  Update D from dict/iterable E and F.\n",
      " |      If E is present and has a .keys() method, then does:  for k in E: D[k] = E[k]\n",
      " |      If E is present and lacks a .keys() method, then does:  for k, v in E: D[k] = v\n",
      " |      In either case, this is followed by: for k in F:  D[k] = F[k]\n",
      " |  \n",
      " |  values(...)\n",
      " |      D.values() -> an object providing a view on D's values\n",
      " |  \n",
      " |  ----------------------------------------------------------------------\n",
      " |  Class methods defined here:\n",
      " |  \n",
      " |  __class_getitem__(...) from builtins.type\n",
      " |      See PEP 585\n",
      " |  \n",
      " |  fromkeys(iterable, value=None, /) from builtins.type\n",
      " |      Create a new dictionary with keys from iterable and values set to value.\n",
      " |  \n",
      " |  ----------------------------------------------------------------------\n",
      " |  Static methods defined here:\n",
      " |  \n",
      " |  __new__(*args, **kwargs) from builtins.type\n",
      " |      Create and return a new object.  See help(type) for accurate signature.\n",
      " |  \n",
      " |  ----------------------------------------------------------------------\n",
      " |  Data and other attributes defined here:\n",
      " |  \n",
      " |  __hash__ = None\n",
      "\n"
     ]
    }
   ],
   "source": [
    "help(dict)"
   ]
  },
  {
   "cell_type": "code",
   "execution_count": 6,
   "id": "3809e8dc",
   "metadata": {},
   "outputs": [
    {
     "name": "stdout",
     "output_type": "stream",
     "text": [
      "Help on class list in module builtins:\n",
      "\n",
      "class list(object)\n",
      " |  list(iterable=(), /)\n",
      " |  \n",
      " |  Built-in mutable sequence.\n",
      " |  \n",
      " |  If no argument is given, the constructor creates a new empty list.\n",
      " |  The argument must be an iterable if specified.\n",
      " |  \n",
      " |  Methods defined here:\n",
      " |  \n",
      " |  __add__(self, value, /)\n",
      " |      Return self+value.\n",
      " |  \n",
      " |  __contains__(self, key, /)\n",
      " |      Return key in self.\n",
      " |  \n",
      " |  __delitem__(self, key, /)\n",
      " |      Delete self[key].\n",
      " |  \n",
      " |  __eq__(self, value, /)\n",
      " |      Return self==value.\n",
      " |  \n",
      " |  __ge__(self, value, /)\n",
      " |      Return self>=value.\n",
      " |  \n",
      " |  __getattribute__(self, name, /)\n",
      " |      Return getattr(self, name).\n",
      " |  \n",
      " |  __getitem__(...)\n",
      " |      x.__getitem__(y) <==> x[y]\n",
      " |  \n",
      " |  __gt__(self, value, /)\n",
      " |      Return self>value.\n",
      " |  \n",
      " |  __iadd__(self, value, /)\n",
      " |      Implement self+=value.\n",
      " |  \n",
      " |  __imul__(self, value, /)\n",
      " |      Implement self*=value.\n",
      " |  \n",
      " |  __init__(self, /, *args, **kwargs)\n",
      " |      Initialize self.  See help(type(self)) for accurate signature.\n",
      " |  \n",
      " |  __iter__(self, /)\n",
      " |      Implement iter(self).\n",
      " |  \n",
      " |  __le__(self, value, /)\n",
      " |      Return self<=value.\n",
      " |  \n",
      " |  __len__(self, /)\n",
      " |      Return len(self).\n",
      " |  \n",
      " |  __lt__(self, value, /)\n",
      " |      Return self<value.\n",
      " |  \n",
      " |  __mul__(self, value, /)\n",
      " |      Return self*value.\n",
      " |  \n",
      " |  __ne__(self, value, /)\n",
      " |      Return self!=value.\n",
      " |  \n",
      " |  __repr__(self, /)\n",
      " |      Return repr(self).\n",
      " |  \n",
      " |  __reversed__(self, /)\n",
      " |      Return a reverse iterator over the list.\n",
      " |  \n",
      " |  __rmul__(self, value, /)\n",
      " |      Return value*self.\n",
      " |  \n",
      " |  __setitem__(self, key, value, /)\n",
      " |      Set self[key] to value.\n",
      " |  \n",
      " |  __sizeof__(self, /)\n",
      " |      Return the size of the list in memory, in bytes.\n",
      " |  \n",
      " |  append(self, object, /)\n",
      " |      Append object to the end of the list.\n",
      " |  \n",
      " |  clear(self, /)\n",
      " |      Remove all items from list.\n",
      " |  \n",
      " |  copy(self, /)\n",
      " |      Return a shallow copy of the list.\n",
      " |  \n",
      " |  count(self, value, /)\n",
      " |      Return number of occurrences of value.\n",
      " |  \n",
      " |  extend(self, iterable, /)\n",
      " |      Extend list by appending elements from the iterable.\n",
      " |  \n",
      " |  index(self, value, start=0, stop=9223372036854775807, /)\n",
      " |      Return first index of value.\n",
      " |      \n",
      " |      Raises ValueError if the value is not present.\n",
      " |  \n",
      " |  insert(self, index, object, /)\n",
      " |      Insert object before index.\n",
      " |  \n",
      " |  pop(self, index=-1, /)\n",
      " |      Remove and return item at index (default last).\n",
      " |      \n",
      " |      Raises IndexError if list is empty or index is out of range.\n",
      " |  \n",
      " |  remove(self, value, /)\n",
      " |      Remove first occurrence of value.\n",
      " |      \n",
      " |      Raises ValueError if the value is not present.\n",
      " |  \n",
      " |  reverse(self, /)\n",
      " |      Reverse *IN PLACE*.\n",
      " |  \n",
      " |  sort(self, /, *, key=None, reverse=False)\n",
      " |      Sort the list in ascending order and return None.\n",
      " |      \n",
      " |      The sort is in-place (i.e. the list itself is modified) and stable (i.e. the\n",
      " |      order of two equal elements is maintained).\n",
      " |      \n",
      " |      If a key function is given, apply it once to each list item and sort them,\n",
      " |      ascending or descending, according to their function values.\n",
      " |      \n",
      " |      The reverse flag can be set to sort in descending order.\n",
      " |  \n",
      " |  ----------------------------------------------------------------------\n",
      " |  Class methods defined here:\n",
      " |  \n",
      " |  __class_getitem__(...) from builtins.type\n",
      " |      See PEP 585\n",
      " |  \n",
      " |  ----------------------------------------------------------------------\n",
      " |  Static methods defined here:\n",
      " |  \n",
      " |  __new__(*args, **kwargs) from builtins.type\n",
      " |      Create and return a new object.  See help(type) for accurate signature.\n",
      " |  \n",
      " |  ----------------------------------------------------------------------\n",
      " |  Data and other attributes defined here:\n",
      " |  \n",
      " |  __hash__ = None\n",
      "\n"
     ]
    }
   ],
   "source": [
    "help(list)"
   ]
  },
  {
   "cell_type": "code",
   "execution_count": 7,
   "id": "18c99a6c",
   "metadata": {},
   "outputs": [],
   "source": [
    "meyve_adi =\"elma\"\n",
    "meyve_kalorisi = 100\n",
    "meyve_rengi =\"kirmizi\""
   ]
  },
  {
   "cell_type": "code",
   "execution_count": 8,
   "id": "5d00c6e1",
   "metadata": {},
   "outputs": [],
   "source": [
    "#instance & attribute & instantiate & initialize"
   ]
  },
  {
   "cell_type": "code",
   "execution_count": 9,
   "id": "af6f397c",
   "metadata": {},
   "outputs": [],
   "source": [
    "class meyve():\n",
    "        isim = \"\"\n",
    "    "
   ]
  },
  {
   "cell_type": "code",
   "execution_count": 10,
   "id": "b22b1841",
   "metadata": {},
   "outputs": [],
   "source": [
    "elma = meyve()"
   ]
  },
  {
   "cell_type": "code",
   "execution_count": 11,
   "id": "77069bd2",
   "metadata": {},
   "outputs": [
    {
     "data": {
      "text/plain": [
       "__main__.meyve"
      ]
     },
     "execution_count": 11,
     "metadata": {},
     "output_type": "execute_result"
    }
   ],
   "source": [
    "type(elma)"
   ]
  },
  {
   "cell_type": "code",
   "execution_count": 12,
   "id": "c50911b5",
   "metadata": {},
   "outputs": [
    {
     "name": "stdout",
     "output_type": "stream",
     "text": [
      "\n"
     ]
    }
   ],
   "source": [
    "print(elma.isim)"
   ]
  },
  {
   "cell_type": "code",
   "execution_count": 13,
   "id": "11146c00",
   "metadata": {},
   "outputs": [],
   "source": [
    "elma.isim = \"Elma\""
   ]
  },
  {
   "cell_type": "code",
   "execution_count": 14,
   "id": "c023869f",
   "metadata": {},
   "outputs": [
    {
     "name": "stdout",
     "output_type": "stream",
     "text": [
      "Elma\n"
     ]
    }
   ],
   "source": [
    "print(elma.isim)"
   ]
  },
  {
   "cell_type": "code",
   "execution_count": 15,
   "id": "b0a11021",
   "metadata": {},
   "outputs": [],
   "source": [
    "class meyve():\n",
    "    isim = \"\"\n",
    "    kalori = 0\n",
    "    renk = \"\""
   ]
  },
  {
   "cell_type": "code",
   "execution_count": 16,
   "id": "941c1396",
   "metadata": {},
   "outputs": [],
   "source": [
    "elma = meyve()"
   ]
  },
  {
   "cell_type": "code",
   "execution_count": 17,
   "id": "811eb46d",
   "metadata": {},
   "outputs": [],
   "source": [
    "elma.isim = \"Elma\"\n",
    "elma.kalori = 100\n",
    "elma.renk = \"kirmizi\""
   ]
  },
  {
   "cell_type": "code",
   "execution_count": 32,
   "id": "a0a9ca10",
   "metadata": {},
   "outputs": [],
   "source": [
    "class meyve():\n",
    "    \n",
    "    def __init__ (self, isim, kalori, renk):\n",
    "        print(\"init çağırıldı, çalıştırıldı\")\n",
    "        self.isim = isim\n",
    "        self.kalori = kalori\n",
    "        self.renk = renk\n",
    "    \n",
    "    def meyveninRengiNe(self):\n",
    "        print(f\"meyvenin rengi: {self.renk}\")"
   ]
  },
  {
   "cell_type": "code",
   "execution_count": 33,
   "id": "6e21263e",
   "metadata": {},
   "outputs": [
    {
     "name": "stdout",
     "output_type": "stream",
     "text": [
      "init çağırıldı, çalıştırıldı\n"
     ]
    }
   ],
   "source": [
    "elma = meyve(\"elma\", 100, \"kirmizi\")"
   ]
  },
  {
   "cell_type": "code",
   "execution_count": 34,
   "id": "304ce46c",
   "metadata": {},
   "outputs": [
    {
     "data": {
      "text/plain": [
       "'elma'"
      ]
     },
     "execution_count": 34,
     "metadata": {},
     "output_type": "execute_result"
    }
   ],
   "source": [
    "elma.isim"
   ]
  },
  {
   "cell_type": "code",
   "execution_count": 35,
   "id": "77a24239",
   "metadata": {},
   "outputs": [
    {
     "data": {
      "text/plain": [
       "100"
      ]
     },
     "execution_count": 35,
     "metadata": {},
     "output_type": "execute_result"
    }
   ],
   "source": [
    "elma.kalori"
   ]
  },
  {
   "cell_type": "code",
   "execution_count": 36,
   "id": "cd6e6af6",
   "metadata": {},
   "outputs": [
    {
     "data": {
      "text/plain": [
       "'kirmizi'"
      ]
     },
     "execution_count": 36,
     "metadata": {},
     "output_type": "execute_result"
    }
   ],
   "source": [
    "elma.renk"
   ]
  },
  {
   "cell_type": "code",
   "execution_count": 37,
   "id": "ce5c9d69",
   "metadata": {},
   "outputs": [
    {
     "name": "stdout",
     "output_type": "stream",
     "text": [
      "meyvenin rengi: kirmizi\n"
     ]
    }
   ],
   "source": [
    "elma.meyveninRengiNe()"
   ]
  },
  {
   "cell_type": "code",
   "execution_count": 38,
   "id": "43d2bb16",
   "metadata": {},
   "outputs": [],
   "source": [
    "benim_listem = list()"
   ]
  },
  {
   "cell_type": "code",
   "execution_count": 39,
   "id": "9205ba44",
   "metadata": {},
   "outputs": [],
   "source": [
    "class kedi():\n",
    "    \n",
    "    def __init__(self, yas):\n",
    "        self.yas = yas\n",
    "        self.insanYasinaCevrilmisHali = yas * 7\n",
    "    \n",
    "    def insanYasiniHesapla(self):\n",
    "        return self.yas * 7"
   ]
  },
  {
   "cell_type": "code",
   "execution_count": 41,
   "id": "d4f5be93",
   "metadata": {},
   "outputs": [],
   "source": [
    "benim_kedim = kedi(3)"
   ]
  },
  {
   "cell_type": "code",
   "execution_count": 42,
   "id": "2bff9e6b",
   "metadata": {},
   "outputs": [
    {
     "data": {
      "text/plain": [
       "21"
      ]
     },
     "execution_count": 42,
     "metadata": {},
     "output_type": "execute_result"
    }
   ],
   "source": [
    "benim_kedim.insanYasinaCevrilmisHali"
   ]
  },
  {
   "cell_type": "code",
   "execution_count": 44,
   "id": "3ef1ac1e",
   "metadata": {},
   "outputs": [
    {
     "data": {
      "text/plain": [
       "21"
      ]
     },
     "execution_count": 44,
     "metadata": {},
     "output_type": "execute_result"
    }
   ],
   "source": [
    "benim_kedim.insanYasiniHesapla()"
   ]
  },
  {
   "cell_type": "code",
   "execution_count": 45,
   "id": "00cf685e",
   "metadata": {},
   "outputs": [],
   "source": [
    "class kedi():\n",
    "    \n",
    "    yil_carpani = 7\n",
    "    \n",
    "    def __init__(self, yas):\n",
    "        self.yas = yas\n",
    "        self.insanYasinaCevrilmisHali = yas * 7\n",
    "    \n",
    "    def insanYasiniHesapla(self):\n",
    "        return self.yas * self.yil_carpani"
   ]
  },
  {
   "cell_type": "code",
   "execution_count": 46,
   "id": "4dd62cdd",
   "metadata": {},
   "outputs": [],
   "source": [
    "baska_kedi = kedi(4)"
   ]
  },
  {
   "cell_type": "code",
   "execution_count": 48,
   "id": "7431d932",
   "metadata": {},
   "outputs": [
    {
     "data": {
      "text/plain": [
       "28"
      ]
     },
     "execution_count": 48,
     "metadata": {},
     "output_type": "execute_result"
    }
   ],
   "source": [
    "baska_kedi.insanYasiniHesapla()"
   ]
  },
  {
   "cell_type": "code",
   "execution_count": 49,
   "id": "a400aea2",
   "metadata": {},
   "outputs": [],
   "source": [
    "baska_kedi.yil_carpani = 6"
   ]
  },
  {
   "cell_type": "code",
   "execution_count": 50,
   "id": "9927da41",
   "metadata": {},
   "outputs": [
    {
     "data": {
      "text/plain": [
       "24"
      ]
     },
     "execution_count": 50,
     "metadata": {},
     "output_type": "execute_result"
    }
   ],
   "source": [
    "baska_kedi.insanYasiniHesapla()"
   ]
  },
  {
   "cell_type": "code",
   "execution_count": 51,
   "id": "3a875648",
   "metadata": {},
   "outputs": [],
   "source": [
    "class kedi():\n",
    "    \n",
    "    yil_carpani = 7\n",
    "    \n",
    "    def __init__(self, yas):\n",
    "        self.yas = yas\n",
    "        self.insanYasinaCevrilmisHali = yas * 7\n",
    "    \n",
    "    def insanYasiniHesapla(self):\n",
    "        return self.yas * kedi.yil_carpani"
   ]
  },
  {
   "cell_type": "code",
   "execution_count": 52,
   "id": "6a5c1126",
   "metadata": {},
   "outputs": [],
   "source": [
    "diger_kedi = kedi(5)"
   ]
  },
  {
   "cell_type": "code",
   "execution_count": 53,
   "id": "b1996ab4",
   "metadata": {},
   "outputs": [
    {
     "data": {
      "text/plain": [
       "35"
      ]
     },
     "execution_count": 53,
     "metadata": {},
     "output_type": "execute_result"
    }
   ],
   "source": [
    "diger_kedi.insanYasiniHesapla()"
   ]
  },
  {
   "cell_type": "code",
   "execution_count": 54,
   "id": "ae48bd21",
   "metadata": {},
   "outputs": [],
   "source": [
    "diger_kedi.yil_carpani = 5"
   ]
  },
  {
   "cell_type": "code",
   "execution_count": 55,
   "id": "6ccc1f9c",
   "metadata": {},
   "outputs": [
    {
     "data": {
      "text/plain": [
       "35"
      ]
     },
     "execution_count": 55,
     "metadata": {},
     "output_type": "execute_result"
    }
   ],
   "source": [
    "diger_kedi.insanYasiniHesapla()"
   ]
  },
  {
   "cell_type": "code",
   "execution_count": 58,
   "id": "000ad9b7",
   "metadata": {},
   "outputs": [],
   "source": [
    "#inheritance"
   ]
  },
  {
   "cell_type": "code",
   "execution_count": 59,
   "id": "5dfc1fde",
   "metadata": {},
   "outputs": [],
   "source": [
    "class canli():\n",
    "    \n",
    "    def __init__(self):\n",
    "        print(\"canlı sınıfı init çalıştırıldı\")\n",
    "    \n",
    "    def method1(self):\n",
    "        print(\"canlı sınıfı method1 çalıştırıldı\")\n",
    "        \n",
    "    def method2(self):\n",
    "        print(\"canlı sınıfı method2 çalıştırıldı\")"
   ]
  },
  {
   "cell_type": "code",
   "execution_count": 63,
   "id": "3a96c967",
   "metadata": {},
   "outputs": [
    {
     "name": "stdout",
     "output_type": "stream",
     "text": [
      "canlı sınıfı init çalıştırıldı\n"
     ]
    }
   ],
   "source": [
    "merve = canli()"
   ]
  },
  {
   "cell_type": "code",
   "execution_count": 64,
   "id": "9184d271",
   "metadata": {},
   "outputs": [
    {
     "name": "stdout",
     "output_type": "stream",
     "text": [
      "canlı sınıfı method1 çalıştırıldı\n"
     ]
    }
   ],
   "source": [
    "merve.method1()"
   ]
  },
  {
   "cell_type": "code",
   "execution_count": 65,
   "id": "f0bfd2bd",
   "metadata": {},
   "outputs": [
    {
     "name": "stdout",
     "output_type": "stream",
     "text": [
      "canlı sınıfı method2 çalıştırıldı\n"
     ]
    }
   ],
   "source": [
    "merve.method2()"
   ]
  },
  {
   "cell_type": "code",
   "execution_count": 66,
   "id": "c65dcf17",
   "metadata": {},
   "outputs": [],
   "source": [
    "class kopek(canli):\n",
    "    \n",
    "    def __init__(self):\n",
    "        canli.__init__(self)\n",
    "        print(\"kopek sınıfının init'i cağırıldı\")\n",
    "    \n",
    "    def havlamak(self):\n",
    "        print(\"hav\")"
   ]
  },
  {
   "cell_type": "code",
   "execution_count": 67,
   "id": "31185019",
   "metadata": {},
   "outputs": [
    {
     "name": "stdout",
     "output_type": "stream",
     "text": [
      "canlı sınıfı init çalıştırıldı\n",
      "kopek sınıfının init'i cağırıldı\n"
     ]
    }
   ],
   "source": [
    "benim_kopek = kopek()"
   ]
  },
  {
   "cell_type": "code",
   "execution_count": 68,
   "id": "0278d06a",
   "metadata": {},
   "outputs": [
    {
     "name": "stdout",
     "output_type": "stream",
     "text": [
      "hav\n"
     ]
    }
   ],
   "source": [
    "benim_kopek.havlamak()"
   ]
  },
  {
   "cell_type": "code",
   "execution_count": 69,
   "id": "640304e5",
   "metadata": {},
   "outputs": [
    {
     "name": "stdout",
     "output_type": "stream",
     "text": [
      "canlı sınıfı method1 çalıştırıldı\n"
     ]
    }
   ],
   "source": [
    "benim_kopek.method1()"
   ]
  },
  {
   "cell_type": "code",
   "execution_count": 70,
   "id": "2bfd8001",
   "metadata": {},
   "outputs": [
    {
     "name": "stdout",
     "output_type": "stream",
     "text": [
      "canlı sınıfı method2 çalıştırıldı\n"
     ]
    }
   ],
   "source": [
    "benim_kopek.method2()"
   ]
  },
  {
   "cell_type": "code",
   "execution_count": 71,
   "id": "f88ffec2",
   "metadata": {},
   "outputs": [],
   "source": [
    "#polymorphism"
   ]
  },
  {
   "cell_type": "code",
   "execution_count": 72,
   "id": "f32e1d14",
   "metadata": {},
   "outputs": [],
   "source": [
    "class kosma():\n",
    "    \n",
    "    def __init__(self,isim):\n",
    "        self.isim = isim\n",
    "        \n",
    "    def bilgiAl(self):\n",
    "        return self.isim + \"250 kalori yaktırır\""
   ]
  },
  {
   "cell_type": "code",
   "execution_count": 73,
   "id": "ffc0019b",
   "metadata": {},
   "outputs": [],
   "source": [
    "class yuzme():\n",
    "    \n",
    "    def __init__(self,isim):\n",
    "        self.isim = isim\n",
    "    \n",
    "    def bilgiAl(self):\n",
    "        return self.isim + \"350 kalori yaktırır\""
   ]
  },
  {
   "cell_type": "code",
   "execution_count": 74,
   "id": "34de7ffe",
   "metadata": {},
   "outputs": [],
   "source": [
    "kosu = kosma(\"kosma\")"
   ]
  },
  {
   "cell_type": "code",
   "execution_count": 75,
   "id": "cdfcb70a",
   "metadata": {},
   "outputs": [],
   "source": [
    "yuzus = yuzme(\"yuzme\")"
   ]
  },
  {
   "cell_type": "code",
   "execution_count": 76,
   "id": "72db430a",
   "metadata": {},
   "outputs": [
    {
     "data": {
      "text/plain": [
       "'kosma250 kalori yaktırır'"
      ]
     },
     "execution_count": 76,
     "metadata": {},
     "output_type": "execute_result"
    }
   ],
   "source": [
    "kosu.bilgiAl()"
   ]
  },
  {
   "cell_type": "code",
   "execution_count": 77,
   "id": "ce94b7f6",
   "metadata": {},
   "outputs": [
    {
     "data": {
      "text/plain": [
       "'yuzme350 kalori yaktırır'"
      ]
     },
     "execution_count": 77,
     "metadata": {},
     "output_type": "execute_result"
    }
   ],
   "source": [
    "yuzus.bilgiAl()"
   ]
  },
  {
   "cell_type": "code",
   "execution_count": 79,
   "id": "84c8aada",
   "metadata": {},
   "outputs": [],
   "source": [
    "spor_listesi = [kosu, yuzus]"
   ]
  },
  {
   "cell_type": "code",
   "execution_count": 80,
   "id": "a3aa9087",
   "metadata": {},
   "outputs": [
    {
     "name": "stdout",
     "output_type": "stream",
     "text": [
      "kosma250 kalori yaktırır\n",
      "yuzme350 kalori yaktırır\n"
     ]
    }
   ],
   "source": [
    "for spor in spor_listesi:\n",
    "    print(spor.bilgiAl())"
   ]
  },
  {
   "cell_type": "code",
   "execution_count": 91,
   "id": "79c92016",
   "metadata": {},
   "outputs": [],
   "source": [
    "class superKahraman():\n",
    "    def __init__(self,isim,yas):\n",
    "        self.isim = isim\n",
    "        self.yas = yas\n",
    "    def __str__(self):\n",
    "        return f\"{self.isim} çok iyi bir superkahramandır\"\n",
    "    \n",
    "    def __len__(self):\n",
    "        return self.yas"
   ]
  },
  {
   "cell_type": "code",
   "execution_count": 92,
   "id": "b7b4ea78",
   "metadata": {},
   "outputs": [],
   "source": [
    "batman = superKahraman(\"batman\",30)"
   ]
  },
  {
   "cell_type": "code",
   "execution_count": 93,
   "id": "1e065428",
   "metadata": {},
   "outputs": [
    {
     "data": {
      "text/plain": [
       "'batman'"
      ]
     },
     "execution_count": 93,
     "metadata": {},
     "output_type": "execute_result"
    }
   ],
   "source": [
    "batman.isim"
   ]
  },
  {
   "cell_type": "code",
   "execution_count": 94,
   "id": "14d2bbd3",
   "metadata": {},
   "outputs": [
    {
     "data": {
      "text/plain": [
       "30"
      ]
     },
     "execution_count": 94,
     "metadata": {},
     "output_type": "execute_result"
    }
   ],
   "source": [
    "batman.yas"
   ]
  },
  {
   "cell_type": "code",
   "execution_count": 95,
   "id": "9d432742",
   "metadata": {},
   "outputs": [
    {
     "name": "stdout",
     "output_type": "stream",
     "text": [
      "batman çok iyi bir superkahramandır\n"
     ]
    }
   ],
   "source": [
    "print(batman)"
   ]
  },
  {
   "cell_type": "code",
   "execution_count": 96,
   "id": "091ae8c7",
   "metadata": {},
   "outputs": [
    {
     "data": {
      "text/plain": [
       "30"
      ]
     },
     "execution_count": 96,
     "metadata": {},
     "output_type": "execute_result"
    }
   ],
   "source": [
    "len(batman)"
   ]
  },
  {
   "cell_type": "code",
   "execution_count": null,
   "id": "074d3e1a",
   "metadata": {},
   "outputs": [],
   "source": [
    "#special methods in python"
   ]
  }
 ],
 "metadata": {
  "kernelspec": {
   "display_name": "Python 3 (ipykernel)",
   "language": "python",
   "name": "python3"
  },
  "language_info": {
   "codemirror_mode": {
    "name": "ipython",
    "version": 3
   },
   "file_extension": ".py",
   "mimetype": "text/x-python",
   "name": "python",
   "nbconvert_exporter": "python",
   "pygments_lexer": "ipython3",
   "version": "3.9.12"
  }
 },
 "nbformat": 4,
 "nbformat_minor": 5
}
